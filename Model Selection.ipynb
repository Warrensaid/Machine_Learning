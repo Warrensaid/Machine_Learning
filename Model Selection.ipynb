{
 "cells": [
  {
   "cell_type": "markdown",
   "metadata": {},
   "source": [
    "if error rate = a/m , m is the number of samples, a is the wrong classfication\n",
    "then accuracy = 1 - a/m\n",
    "\n"
   ]
  },
  {
   "cell_type": "markdown",
   "metadata": {},
   "source": [
    "underfitting is easy to handle"
   ]
  },
  {
   "cell_type": "markdown",
   "metadata": {},
   "source": [
    "overfitting is the key problem"
   ]
  },
  {
   "cell_type": "markdown",
   "metadata": {},
   "source": [
    "## Split the train set and test set\n",
    "important! \n",
    "1. train_set and test_est should indepandent \n",
    "2. the disribution of two sets should be similiar"
   ]
  },
  {
   "cell_type": "markdown",
   "metadata": {},
   "source": [
    "### 1. Hold-out \n",
    "‘stratified sampling’"
   ]
  },
  {
   "cell_type": "markdown",
   "metadata": {},
   "source": [
    "### 2. cross validation (k-fold cross validation)"
   ]
  },
  {
   "cell_type": "markdown",
   "metadata": {},
   "source": [
    "### 3. bootstrapping\n",
    "about 0.368 samples will not in the train_set -- D'\n",
    "<br>\n",
    "D' is train_set\n",
    "<br>\n",
    "D-D' is test_set\n",
    "\n",
    "bootstrapping is useful in small sampling sets\n"
   ]
  },
  {
   "cell_type": "markdown",
   "metadata": {},
   "source": [
    "## Parameter Tuning"
   ]
  },
  {
   "cell_type": "markdown",
   "metadata": {},
   "source": [
    "## performance measure\n",
    "### Mean Squared Erroe (Regression Model)\n",
    "### Precision, Recall, F1\n",
    "confusion matrix\n",
    "<br>\n",
    "TP (True positive)|FN (False negative)\n",
    "<br>\n",
    "FP |TN\n",
    "<br> Precision = TP/(TP+FP)\n",
    "<br> Recall = TP/(TP+FN)\n",
    "<br> Break-Even Point P=R, larger is better\n",
    "<br> F1 = (2*P*R)/ (P+R) -- based on the harmonic mean of P and R\n",
    "<br> F_beta = (1+beta^2)*P*R)/(beta^2*P+R) -- beta > 1 R is more important, beta<1 P is the primary consideration"
   ]
  },
  {
   "cell_type": "markdown",
   "metadata": {},
   "source": [
    "### Reciever Operating Characteristic (ROC)\n",
    "1. True Positive Rate TPR = TP/(TP+FN) -- vertical\n",
    "2. False Positive Rate FPR = FP/(TN+FP) -- horizontal\n",
    "3. Area Under Curve AUC -- used to decide which is better when two ROCs crosss"
   ]
  },
  {
   "cell_type": "markdown",
   "metadata": {},
   "source": [
    "### Unequal cost\n",
    "cost sensitive error rate: in this situation, ROC is not very useful. The cost curve is needed"
   ]
  },
  {
   "cell_type": "markdown",
   "metadata": {},
   "source": [
    "### bias-variance decomposition"
   ]
  }
 ],
 "metadata": {
  "kernelspec": {
   "display_name": "Python 3",
   "language": "python",
   "name": "python3"
  },
  "language_info": {
   "codemirror_mode": {
    "name": "ipython",
    "version": 3
   },
   "file_extension": ".py",
   "mimetype": "text/x-python",
   "name": "python",
   "nbconvert_exporter": "python",
   "pygments_lexer": "ipython3",
   "version": "3.6.1"
  }
 },
 "nbformat": 4,
 "nbformat_minor": 2
}
